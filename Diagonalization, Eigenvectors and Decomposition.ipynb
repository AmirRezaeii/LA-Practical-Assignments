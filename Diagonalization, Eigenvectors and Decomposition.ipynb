{
  "cells": [
    {
      "cell_type": "markdown",
      "metadata": {
        "id": "9hhIsepSG3o2"
      },
      "source": [
        "<br>\n",
        "<font>\n",
        "<!-- <img src=\"https://cdn.freebiesupply.com/logos/large/2x/sharif-logo-png-transparent.png\" alt=\"SUT logo\" width=300 height=300 align=left class=\"saturate\"> -->\n",
        "<div dir=ltr align=center>\n",
        "<img src=\"https://cdn.freebiesupply.com/logos/large/2x/sharif-logo-png-transparent.png\" width=200 height=200>\n",
        "<br>\n",
        "<font color=0F5298 size=7>\n",
        "Linear Algebra <br>\n",
        "<font color=2565AE size=5>\n",
        "Computer Engineering Department <br>\n",
        "Spring 2024<br>\n",
        "<font color=3C99D size=5>\n",
        "Practical Assignment 3 <br>\n",
        "<font color=3C99D size=5>\n",
        "Diagonalization, Eigenvectors and Decomposition <br>\n",
        "<font color=696880 size=4>\n",
        "<!-- <br> -->\n",
        "Mahdi Alinejad - Mahan Bayhaghi\n",
        "\n",
        "____"
      ]
    },
    {
      "cell_type": "markdown",
      "metadata": {
        "id": "L_yNz5LcG3o4"
      },
      "source": [
        "\n",
        "<h3 style='color: green;'>Purpose</h3>\n",
        "In this notebook, we will explore eigenvalues and eigenvectors, and demonstrate diagonalization of a matrix. We will also compare the performance of computing matrix powers using regular methods versus diagonalization."
      ]
    },
    {
      "cell_type": "markdown",
      "metadata": {
        "id": "rrA_CrJLG3o5"
      },
      "source": [
        "<h3 style='color: green;'>Student Information</h3>"
      ]
    },
    {
      "cell_type": "code",
      "execution_count": 1,
      "metadata": {
        "ExecuteTime": {
          "end_time": "2024-06-20T22:54:03.523856Z",
          "start_time": "2024-06-20T22:54:03.520893Z"
        },
        "id": "SOgJ3WAyG3o6"
      },
      "outputs": [],
      "source": [
        "student_number = '401105989'\n",
        "first_name = 'Amirhosein'\n",
        "last_name = 'Rezaei'"
      ]
    },
    {
      "cell_type": "markdown",
      "metadata": {
        "id": "badnPO4GG3o6"
      },
      "source": [
        "<h3 style='color: green;'>Imports</h3>\n",
        "import the necessary libraries."
      ]
    },
    {
      "cell_type": "code",
      "execution_count": 2,
      "metadata": {
        "ExecuteTime": {
          "end_time": "2024-06-20T22:54:03.574734Z",
          "start_time": "2024-06-20T22:54:03.571360Z"
        },
        "id": "YwsqXl1ZG3o7"
      },
      "outputs": [],
      "source": [
        "import numpy as np\n",
        "from IPython.display import display, HTML\n",
        "import matplotlib.pyplot as plt\n",
        "import timeit"
      ]
    },
    {
      "cell_type": "markdown",
      "metadata": {
        "id": "1-lWTHrjG3o7"
      },
      "source": [
        "<h3 style='color: green;'>Eigenvalues and Eigenvectors</h3>\n",
        "Eigenvalues and eigenvectors are fundamental concepts in linear algebra. For a given square matrix A, if there is a non-zero vector v such that Av = λv, then λ is called the eigenvalue and v is the corresponding eigenvector."
      ]
    },
    {
      "cell_type": "markdown",
      "metadata": {
        "id": "8Pv6LVjyG3o7"
      },
      "source": [
        "<h3 style='color: green;'>Functions for Eigenvalues and Eigenvectors</h3>\n",
        "We will define functions to compute eigenvalues and eigenvectors."
      ]
    },
    {
      "cell_type": "code",
      "execution_count": 3,
      "metadata": {
        "ExecuteTime": {
          "end_time": "2024-06-20T22:54:03.590103Z",
          "start_time": "2024-06-20T22:54:03.586103Z"
        },
        "id": "OPa2h3rmG3o8"
      },
      "outputs": [],
      "source": [
        "def compute_eigenvalues(A):\n",
        "    coefficients = np.poly(A)\n",
        "    eigenvalues = np.roots(coefficients)\n",
        "    return eigenvalues.tolist()\n",
        "\n",
        "def compute_eigenvector(A, eigenvalue):\n",
        "    n = A.shape[0]\n",
        "    I = np.eye(n)\n",
        "    B = A - eigenvalue * I\n",
        "    if B[0, 0] == 0 and B[0, 1] == 0:\n",
        "       eigenvector = np.array([B[1, 1], -B[1, 0]])\n",
        "\n",
        "    else:\n",
        "       eigenvector = np.array([-B[0, 1], B[0, 0]])\n",
        "    norm_2 = np.sqrt(np.sum(eigenvector**2))\n",
        "    Normalized_eigenvector = eigenvector / norm_2\n",
        "    return Normalized_eigenvector\n",
        "\n",
        "def compute_eigenvectors(A):\n",
        "    eigenvalues = compute_eigenvalues(A)\n",
        "    eigenvectors = [compute_eigenvector(A, eigenvalue) for eigenvalue in eigenvalues]\n",
        "    return np.column_stack(eigenvectors)\n"
      ]
    },
    {
      "cell_type": "markdown",
      "metadata": {
        "id": "ZuE5YmroG3o9"
      },
      "source": [
        "<h3 style='color: green;'>Visualization of Vectors</h3>\n",
        "We will write a function to visualize vectors in 2D."
      ]
    },
    {
      "cell_type": "code",
      "execution_count": 4,
      "metadata": {
        "ExecuteTime": {
          "end_time": "2024-06-20T22:54:03.615375Z",
          "start_time": "2024-06-20T22:54:03.611231Z"
        },
        "id": "Z-LvcCT0G3o-"
      },
      "outputs": [],
      "source": [
        "def plot_vectors(vectors, colors, labels, title):\n",
        "    plt.figure()\n",
        "    plt.axhline(0, color='gray', lw=0.5)\n",
        "    plt.axvline(0, color='gray', lw=0.5)\n",
        "    plt.grid()\n",
        "    for vector, color, label in zip(vectors, colors, labels):\n",
        "        plt.quiver(0, 0, vector[0], vector[1], angles='xy', scale_units='xy', scale=1, color=color, label=label)\n",
        "    plt.xlim(-1.5, 1.5)\n",
        "    plt.ylim(-1.5, 1.5)\n",
        "    plt.legend()\n",
        "    plt.title(title)\n",
        "    plt.show()\n"
      ]
    },
    {
      "cell_type": "markdown",
      "metadata": {
        "id": "LyDyLZdzG3o-"
      },
      "source": [
        "<h3 style='color: green;'>Example with a Random Matrix</h3>\n",
        "We will generate a random 2D matrix with two independent eigenvectors and visualize them along with a random vector. Then we apply the transformation and plot them again."
      ]
    },
    {
      "cell_type": "markdown",
      "metadata": {
        "id": "fqPc0ACbG3o-"
      },
      "source": [
        "### no need to change the below cells"
      ]
    },
    {
      "cell_type": "code",
      "execution_count": 5,
      "metadata": {
        "ExecuteTime": {
          "end_time": "2024-06-20T22:54:03.630890Z",
          "start_time": "2024-06-20T22:54:03.627383Z"
        },
        "id": "Rde7P4QEG3o-"
      },
      "outputs": [],
      "source": [
        "def generate_valid_matrix():\n",
        "    while True:\n",
        "        A = np.random.rand(2, 2)\n",
        "        eigenvalues = np.linalg.eigvals(A)\n",
        "        if (np.all(np.isreal(eigenvalues)) and\n",
        "            len(set(eigenvalues)) == 2 and\n",
        "            np.all(np.abs(eigenvalues) > 0.33) and\n",
        "            np.all(np.abs(eigenvalues) < 3)):\n",
        "            return A"
      ]
    },
    {
      "cell_type": "code",
      "execution_count": 7,
      "metadata": {
        "ExecuteTime": {
          "end_time": "2024-06-20T22:54:31.221389Z",
          "start_time": "2024-06-20T22:54:31.010845Z"
        },
        "colab": {
          "base_uri": "https://localhost:8080/",
          "height": 887
        },
        "id": "2P47KdsWG3o_",
        "outputId": "7731ffd8-12a2-4d6c-c71b-cace4684db88"
      },
      "outputs": [
        {
          "data": {
            "image/png": "[encoded data removed]",
            "text/plain": [
              "<Figure size 640x480 with 1 Axes>"
            ]
          },
          "metadata": {},
          "output_type": "display_data"
        },
        {
          "data": {
            "image/png": "[encoded data removed]",
            "text/plain": [
              "<Figure size 640x480 with 1 Axes>"
            ]
          },
          "metadata": {},
          "output_type": "display_data"
        }
      ],
      "source": [
        "A = generate_valid_matrix()\n",
        "eigenvectors = compute_eigenvectors(A)\n",
        "\n",
        "random_vector = np.random.rand(2)\n",
        "\n",
        "plot_vectors([eigenvectors[:, 0], eigenvectors[:, 1], random_vector],\n",
        "             ['r', 'g', 'b'],\n",
        "             ['Eigenvector 1', 'Eigenvector 2', 'Random Vector'],\n",
        "             'Original Vectors')\n",
        "\n",
        "transformed_vectors = [A @ eigenvectors[:, 0], A @ eigenvectors[:, 1], A @ random_vector]\n",
        "\n",
        "plot_vectors(transformed_vectors,\n",
        "             ['r', 'g', 'b'],\n",
        "             ['Transformed Eigenvector 1', 'Transformed Eigenvector 2', 'Transformed Random Vector'],\n",
        "             'Transformed Vectors')"
      ]
    },
    {
      "cell_type": "markdown",
      "metadata": {
        "id": "dABxMS9wG3o_"
      },
      "source": [
        "<h3 style='color: red;'>Question</h3>\n",
        "explain this behavior of these vectors in 2D plain"
      ]
    },
    {
      "cell_type": "markdown",
      "metadata": {
        "id": "VqZQGCiSG3pA"
      },
      "source": [
        "<h3 style='color: yellow;'>Your answer</h3>\n",
        "\n",
        "# A random vector does not have this property. When a random vector is transformed by a matrix, its direction typically changes due to the influence of all components of the transformation matrix A, which can rotate, stretch, or otherwise alter the direction of the vector."
      ]
    },
    {
      "cell_type": "markdown",
      "metadata": {
        "id": "CrU96CfqG3pA"
      },
      "source": [
        "<h3 style='color: green;'>Diagonalization</h3>\n",
        "Diagonalization of a matrix involves finding a matrix P and a diagonal matrix D such that A = PDP^(-1). This is possible if A has n linearly independent eigenvectors."
      ]
    },
    {
      "cell_type": "code",
      "execution_count": 8,
      "metadata": {
        "ExecuteTime": {
          "end_time": "2024-06-20T22:54:03.846840Z",
          "start_time": "2024-06-20T22:54:03.841932Z"
        },
        "id": "3dS2y_22G3pA"
      },
      "outputs": [],
      "source": [
        "def diagonalize(A):\n",
        "    eigenvalues = compute_eigenvalues(A)\n",
        "    P = compute_eigenvectors(A)\n",
        "    D = np.diag(eigenvalues)\n",
        "    try:\n",
        "        P_inv = np.linalg.inv(P)\n",
        "    except np.linalg.LinAlgError:\n",
        "        raise ValueError(\"Matrix A is not diagonalizable\")\n",
        "    if not np.allclose(A, P @ D @ P_inv):\n",
        "        raise ValueError(\"Matrix A is not diagonalizable\")\n",
        "\n",
        "    return D\n"
      ]
    },
    {
      "cell_type": "markdown",
      "metadata": {
        "id": "llpLrZLcG3pA"
      },
      "source": [
        "to check your answer use the cells below"
      ]
    },
    {
      "cell_type": "code",
      "execution_count": 9,
      "metadata": {
        "ExecuteTime": {
          "end_time": "2024-06-20T22:54:03.852263Z",
          "start_time": "2024-06-20T22:54:03.847850Z"
        },
        "id": "gKmDm981G3pB"
      },
      "outputs": [],
      "source": [
        "def check_diagonalization(D, A):\n",
        "    is_diagonal = np.allclose(D, np.diag(np.diagonal(D)))\n",
        "    eigenvalues_A = np.linalg.eigvals(A)\n",
        "    diagonal_entries_D = np.diagonal(D)\n",
        "    has_correct_diagonal = np.allclose(np.sort(eigenvalues_A), np.sort(diagonal_entries_D))\n",
        "    has_all_eigenvalues = set(diagonal_entries_D) >= set(eigenvalues_A)\n",
        "\n",
        "    if is_diagonal and has_correct_diagonal and has_all_eigenvalues:\n",
        "        display(HTML('<font color=\"green\">All conditions satisfied:</font> Matrix D properly diagonalizes matrix A.'))\n",
        "    else:\n",
        "        if not is_diagonal:\n",
        "            display(HTML('<font color=\"red\">Error:</font> Matrix D is not diagonal.'))\n",
        "        if not has_correct_diagonal:\n",
        "            display(HTML('<font color=\"red\">Error:</font> Diagonal entries of D are not eigenvalues of A.'))\n",
        "        if not has_all_eigenvalues:\n",
        "            display(HTML('<font color=\"red\">Error:</font> D does not include all eigenvalues of A.'))\n"
      ]
    },
    {
      "cell_type": "code",
      "execution_count": 10,
      "metadata": {
        "ExecuteTime": {
          "end_time": "2024-06-20T22:54:03.858154Z",
          "start_time": "2024-06-20T22:54:03.853852Z"
        },
        "colab": {
          "base_uri": "https://localhost:8080/",
          "height": 34
        },
        "id": "rI9_28RIG3pB",
        "outputId": "a2a78327-2cef-47e8-89ac-555cc07331ad"
      },
      "outputs": [
        {
          "data": {
            "text/html": [
              "<font color=\"green\">All conditions satisfied:</font> Matrix D properly diagonalizes matrix A."
            ],
            "text/plain": [
              "<IPython.core.display.HTML object>"
            ]
          },
          "metadata": {},
          "output_type": "display_data"
        }
      ],
      "source": [
        "A = generate_valid_matrix()\n",
        "\n",
        "D = diagonalize(A)\n",
        "\n",
        "check_diagonalization(D, A)"
      ]
    },
    {
      "cell_type": "markdown",
      "metadata": {
        "id": "F7cqr4RZG3pB"
      },
      "source": [
        "<h3 style='color: green;'>Properties of Diagonalized Matrix</h3>\n",
        "A diagonalized matrix has its eigenvalues on the diagonal. It is easier to compute powers of a diagonal matrix."
      ]
    },
    {
      "cell_type": "markdown",
      "metadata": {
        "id": "J-mkeg0rG3pD"
      },
      "source": [
        "<h3 style='color: red;'>Question</h3>\n",
        "How do you think we can speed up the process of calculating powers of a matrix by using diagonalization?"
      ]
    },
    {
      "cell_type": "markdown",
      "metadata": {
        "id": "ll0pEQQPG3pD"
      },
      "source": [
        "<h3 style='color: yellow;'>Your answer:</h3>\n",
        "\n",
        "The diagonalization of matrix\n",
        "𝐴\n",
        "A, then calculating powers of\n",
        "𝐴\n",
        "A is simplified to\n",
        "𝐴\n",
        "𝑛\n",
        "=\n",
        "𝑃\n",
        "𝐷\n",
        "𝑛\n",
        "𝑃\n",
        "−\n",
        "1\n",
        "A\n",
        "n\n",
        " =PD\n",
        "n\n",
        " P\n",
        "−1\n",
        " . This reduces the computational effort to calculating\n",
        "𝐷\n",
        "𝑛\n",
        "D\n",
        "n\n",
        " , which is straightforward because\n",
        "𝐷\n",
        "D is diagonal."
      ]
    },
    {
      "cell_type": "markdown",
      "metadata": {
        "id": "0MfFDZNWG3pD"
      },
      "source": [
        "<h3 style='color: green;'>Performance Comparison</h3>\n",
        "We will compare the time taken to compute matrix powers using regular methods versus diagonalization."
      ]
    },
    {
      "cell_type": "markdown",
      "metadata": {
        "id": "XkskzF7lG3pD"
      },
      "source": [
        "First, we will compute the powers of a matrix using the regular method."
      ]
    },
    {
      "cell_type": "code",
      "execution_count": 11,
      "metadata": {
        "ExecuteTime": {
          "end_time": "2024-06-20T22:54:03.862049Z",
          "start_time": "2024-06-20T22:54:03.858154Z"
        },
        "id": "kUUJ_6ctG3pD"
      },
      "outputs": [],
      "source": [
        "def compute_powers(A, n):\n",
        "    result = A\n",
        "    for _ in range(n-1):\n",
        "        result = result @ A\n",
        "    return result"
      ]
    },
    {
      "cell_type": "code",
      "execution_count": 12,
      "metadata": {
        "ExecuteTime": {
          "end_time": "2024-06-20T22:54:03.865650Z",
          "start_time": "2024-06-20T22:54:03.863108Z"
        },
        "id": "AVuKLc6aG3pD"
      },
      "outputs": [],
      "source": [
        "n_values = range(1, 200)"
      ]
    },
    {
      "cell_type": "code",
      "execution_count": 13,
      "metadata": {
        "ExecuteTime": {
          "end_time": "2024-06-20T22:54:03.910618Z",
          "start_time": "2024-06-20T22:54:03.866646Z"
        },
        "id": "yaw7gGSoG3pD"
      },
      "outputs": [],
      "source": [
        "regular_times = []\n",
        "\n",
        "for n in n_values:\n",
        "    timer = timeit.Timer(lambda: compute_powers(A, n))\n",
        "    regular_times.append(timer.timeit(number=1))"
      ]
    },
    {
      "cell_type": "markdown",
      "metadata": {
        "id": "yDFbIMA9G3pE"
      },
      "source": [
        "Next, we will use your method for calculating power of a matrix."
      ]
    },
    {
      "cell_type": "code",
      "execution_count": 15,
      "metadata": {
        "ExecuteTime": {
          "end_time": "2024-06-20T22:54:03.915506Z",
          "start_time": "2024-06-20T22:54:03.911637Z"
        },
        "id": "1VmwTfB8G3pE"
      },
      "outputs": [],
      "source": [
        "def compute_powers_your_way(A, n):\n",
        "    eigenvalues = compute_eigenvalues(A)\n",
        "    P = compute_eigenvectors(A)\n",
        "    D = np.diag(eigenvalues)\n",
        "    D_n = np.diag(eigenvalues)**n\n",
        "    try:\n",
        "        P_inv = np.linalg.inv(P)\n",
        "    except np.linalg.LinAlgError:\n",
        "        raise ValueError(\"Matrix A is not diagonalizable\")\n",
        "    result = P @ D_n @ P_inv\n",
        "\n",
        "    return result"
      ]
    },
    {
      "cell_type": "code",
      "execution_count": 16,
      "metadata": {
        "ExecuteTime": {
          "end_time": "2024-06-20T22:54:03.952957Z",
          "start_time": "2024-06-20T22:54:03.916022Z"
        },
        "id": "RxVs7iRZG3pE"
      },
      "outputs": [],
      "source": [
        "diagonal_times = []\n",
        "\n",
        "for n in n_values:\n",
        "    timer = timeit.Timer(lambda: compute_powers_your_way(A, n))\n",
        "    diagonal_times.append(timer.timeit(number=1))"
      ]
    },
    {
      "cell_type": "markdown",
      "metadata": {
        "id": "YBljoByjG3pF"
      },
      "source": [
        "Finally, we will plot the results to compare the performance of both methods."
      ]
    },
    {
      "cell_type": "code",
      "execution_count": 38,
      "metadata": {
        "ExecuteTime": {
          "end_time": "2024-06-20T22:54:04.092221Z",
          "start_time": "2024-06-20T22:54:03.955046Z"
        },
        "colab": {
          "base_uri": "https://localhost:8080/",
          "height": 472
        },
        "id": "yzRujDBlG3pF",
        "outputId": "9dd7b864-c6e9-44c6-c63b-b72a895d97cf"
      },
      "outputs": [
        {
          "data": {
            "image/png": "[encoded data removed]",
            "text/plain": [
              "<Figure size 640x480 with 1 Axes>"
            ]
          },
          "metadata": {},
          "output_type": "display_data"
        }
      ],
      "source": [
        "plt.plot(n_values, regular_times, label='Regular Method')\n",
        "plt.plot(n_values, diagonal_times, label='Diagonalization Method')\n",
        "plt.xlabel('Exponent (n)')\n",
        "plt.ylabel('Time (s)')\n",
        "plt.legend()\n",
        "plt.title('Performance Comparison')\n",
        "plt.show()"
      ]
    },
    {
      "cell_type": "markdown",
      "metadata": {
        "id": "5kwiT2jIHGvK"
      },
      "source": [
        "<h3 style='color: green;'>Background: </h3>\n",
        "\n",
        "QR decomposition is a matrix factorization technique that decomposes a matrix\n",
        "𝐴\n",
        "into an orthogonal matrix\n",
        "𝑄\n",
        "and an upper triangular matrix\n",
        "𝑅\n",
        "R. The Gram-Schmidt process is a method for orthogonalizing a set of vectors in an inner product space, which forms the basis of this decomposition.\n",
        "\n",
        "<h3 style='color: green;'>Gram-Schmidt Process: </h3>\n",
        "\n",
        "A method to orthogonalize a set of vectors in an inner product space.\n",
        "\n",
        "<h3 style='color: green;'>Theory: </h3>\n",
        "\n",
        "Given a matrix\n",
        "$ 𝐴 ∈ 𝑅^{𝑚 × 𝑛} $ , QR decomposition aims to find an orthogonal matrix\n",
        "$ Q ∈ 𝑅^{𝑚 × 𝑛} $ and an upper triangular matrix  $ R ∈ 𝑅^{n × 𝑛} $ such that:\n",
        "$ A = Q R $\n",
        "\n",
        "**In the section below, implement QR decompostion step by step :**"
      ]
    },
    {
      "cell_type": "code",
      "execution_count": 26,
      "metadata": {
        "id": "sj-lMxxMHcat"
      },
      "outputs": [],
      "source": [
        "def gram_schmidt(A):\n",
        "    n, m = A.shape\n",
        "    Q = np.zeros((n, m))\n",
        "    R = np.zeros((m, m))\n",
        "    for i in range(m):\n",
        "        Q[:, i] = A[:, i]\n",
        "        for j in range(i):\n",
        "            R[j, i] = np.dot(Q[:, j], A[:, i])\n",
        "            Q[:, i] -= R[j, i] * Q[:, j]\n",
        "        R[i, i] = np.sqrt(np.sum(Q[:, i] ** 2))\n",
        "        Q[:, i] /= R[i, i]\n",
        "    return Q, R"
      ]
    },
    {
      "cell_type": "markdown",
      "metadata": {
        "id": "PkYIyxBmHfJ5"
      },
      "source": [
        "Now, let's check if the decompostion. No need to change the following cell."
      ]
    },
    {
      "cell_type": "code",
      "execution_count": 27,
      "metadata": {
        "colab": {
          "base_uri": "https://localhost:8080/"
        },
        "id": "Am892MuUHhFz",
        "outputId": "42e89295-bc9a-4c03-ef84-58b36a102d65"
      },
      "outputs": [
        {
          "name": "stdout",
          "output_type": "stream",
          "text": [
            "Matrix A:\n",
            "[[0.3853744  0.1365909  0.0142895  0.34119104]\n",
            " [0.60653098 0.57320218 0.5933048  0.90424132]\n",
            " [0.44719947 0.79963917 0.0136466  0.09224378]\n",
            " [0.50284355 0.87468474 0.9989103  0.0465725 ]]\n",
            "\n",
            "Orthogonal matrix Q:\n",
            "[[ 0.39144336 -0.65168541 -0.21496677 -0.61308034]\n",
            " [ 0.61608276 -0.33831819  0.20415892  0.68139707]\n",
            " [ 0.45424207  0.47395853 -0.75267113  0.05013612]\n",
            " [ 0.51076244  0.48601466  0.58787294 -0.39663193]]\n",
            "\n",
            "Upper triangular matrix R:\n",
            "[[ 0.98449594  1.21659344  0.88752311  0.75633295]\n",
            " [ 0.          0.52116639  0.2819149  -0.46191586]\n",
            " [ 0.          0.          0.69501763  0.06921368]\n",
            " [ 0.          0.          0.          0.39312247]]\n",
            "\n",
            "Check A = QR: True\n",
            "\n",
            "Check Q^T Q = I: True\n"
          ]
        }
      ],
      "source": [
        "def test_QR_decomposition():\n",
        "    A = np.random.random((4, 4))\n",
        "    Q, R = gram_schmidt(A)\n",
        "    print(\"Matrix A:\")\n",
        "    print(A)\n",
        "    print(\"\\nOrthogonal matrix Q:\")\n",
        "    print(Q)\n",
        "    print(\"\\nUpper triangular matrix R:\")\n",
        "    print(R)\n",
        "    print(f\"\\nCheck A = QR: {np.allclose(A, np.dot(Q, R))}\")\n",
        "    print(f\"\\nCheck Q^T Q = I: {np.allclose(np.dot(Q.T, Q), np.eye(Q.shape[1]))}\")\n",
        "\n",
        "test_QR_decomposition()"
      ]
    },
    {
      "cell_type": "markdown",
      "metadata": {
        "id": "-owPtKScHjlA"
      },
      "source": [
        "In this section, we will implement [Househodler reflection](https://en.wikipedia.org/wiki/Householder_transformation) method to compute QR decomposition.\n",
        "\n",
        "<h3 style='color: green;'>Concept of Householder Reflections: </h3>\n",
        "\n",
        "Householder reflections are used to zero out specific elements of a vector or matrix. A Householder reflection is defined by a vector\n",
        "𝑣 and it generates a matrix  𝐻 such that:\n",
        "$$ 𝐻 = 𝐼 − 2𝑣𝑣^𝑇 $$\n",
        "where  𝑣 is a unit vector. This transformation is used to reflect a vector about a plane or hyperplane. When applied to a vector, it can zero out all elements below the first one, which is useful for transforming a matrix into an upper triangular form.\n",
        "\n",
        "<h3 style='color: green;'>Using Householder Reflections for QR Decomposition: </h3>\n",
        "\n",
        "The goal is to decompose a matrix\n",
        "𝐴 into an orthogonal matrix 𝑄 and an upper triangular matrix 𝑅. Householder reflections are used to systematically zero out the sub-diagonal elements of\n",
        "𝐴 transforming it into\n",
        "𝑅. The orthogonal matrix\n",
        "𝑄 is the product of all Householder matrices used in the process."
      ]
    },
    {
      "cell_type": "code",
      "execution_count": 28,
      "metadata": {
        "id": "YQY0Q_R1HlaK"
      },
      "outputs": [],
      "source": [
        "def householder_reflection(a):\n",
        "    v = a.copy()\n",
        "    norm_a = np.sqrt(np.sum(a**2))\n",
        "    sign = 1 if a[0] >= 0 else -1\n",
        "    v[0] += sign * norm_a\n",
        "    norm_v = np.sqrt(np.sum(v**2))\n",
        "    v = v / norm_v\n",
        "    H = np.eye(len(a)) - 2 * np.outer(v, v)\n",
        "    return H\n",
        "\n",
        "def qr_householder(A):\n",
        "    m, n = A.shape\n",
        "    Q = np.eye(m)\n",
        "    R = A.copy()\n",
        "    for i in range(min(m, n)):\n",
        "        H_i = np.eye(m)\n",
        "        H_i[i:, i:] = householder_reflection(R[i:, i])\n",
        "        R = H_i @ R\n",
        "        Q = Q @ H_i.T\n",
        "    return Q, R\n"
      ]
    },
    {
      "cell_type": "markdown",
      "metadata": {
        "id": "jl--0YygHoHu"
      },
      "source": [
        "Now, let's check if the decompostion.\n"
      ]
    },
    {
      "cell_type": "code",
      "execution_count": 29,
      "metadata": {
        "colab": {
          "base_uri": "https://localhost:8080/"
        },
        "id": "ALYaP8uhHovM",
        "outputId": "209304d1-e288-44bb-8f3e-a3b8d4155eb1"
      },
      "outputs": [
        {
          "name": "stdout",
          "output_type": "stream",
          "text": [
            "Matrix A:\n",
            "[[0.15693081 0.01434726 0.83513811 0.89910302]\n",
            " [0.46367072 0.70821804 0.29843858 0.48552143]\n",
            " [0.69765333 0.66562703 0.81421586 0.70080075]\n",
            " [0.98631819 0.37052665 0.68375734 0.57085162]]\n",
            "\n",
            "Orthogonal matrix Q:\n",
            "[[ 0.12039013 -0.17250973  0.91444342  0.34574534]\n",
            " [ 0.35570693  0.72762293 -0.12614459  0.57282196]\n",
            " [ 0.53520768  0.35151171  0.26801498 -0.71983347]\n",
            " [ 0.75665814 -0.56324488 -0.27576936  0.18486464]]\n",
            "\n",
            "Upper triangular matrix R:\n",
            "[[ 1.30351891  0.89025603  1.15984419  1.08795994]\n",
            " [ 0.          0.5381191  -0.0258351   0.12298293]\n",
            " [ 0.          0.          0.75570286  0.79133465]\n",
            " [ 0.          0.          0.          0.19004846]]\n",
            "\n",
            "Check A = QR: True\n",
            "\n",
            "Check Q^T Q = I: True\n"
          ]
        }
      ],
      "source": [
        "test_QR_decomposition()"
      ]
    },
    {
      "cell_type": "markdown",
      "metadata": {
        "id": "GKPR8aUzHsZt"
      },
      "source": [
        "<h3 style='color: green;'> Calculating Eigenvalues Using QR Decomposition </h3>\n",
        "\n",
        "Eigenvalues and eigenvectors are fundamental concepts in linear algebra, playing a crucial role in various mathematical and scientific applications. One efficient method to compute eigenvalues of a matrix is through QR decomposition. In this section, we will use QR decomposition to estimate eigenvalues and eigenvectors.\n",
        "\n",
        "The QR algorithm utilizes QR decomposition iteratively to approximate eigenvalues of $ A $. Here’s a step-by-step outline of how this process works:\n",
        "\n",
        "1. **Initial Setup:**\n",
        "   - Start with a square matrix $ A $.\n",
        "\n",
        "2. **QR Decomposition Iteration:**\n",
        "   - Decompose $ A $ into $ Q $ and R such that:\n",
        "\n",
        "     $$ A^{(0)} = Q^{(0)} R^{(0)} $$\n",
        "\n",
        "   - Update $ A $ iteratively:\n",
        "\n",
        "     $$ A^{(k)} = R^{(k-1)} Q^{(k-1)} $$\n",
        "   - Convergence is typically checked by ensuring $ A^{(k)} $ becomes increasingly upper triangular or converges to a diagonal matrix.\n",
        "\n",
        "3. **Extracting Eigenvalues:**\n",
        "   - After convergence, the diagonal elements of the upper triangular matrix $ A^{(k)} $ are the eigenvalues of $ A $."
      ]
    },
    {
      "cell_type": "code",
      "execution_count": 35,
      "metadata": {
        "id": "v7RBDvXKHuAf"
      },
      "outputs": [],
      "source": [
        "def qr_algorithm(A, num_iterations=100000, tol=1e-10):\n",
        "    A = A.copy()\n",
        "    n = A.shape[0]\n",
        "    Q_total = np.eye(n)\n",
        "    for _ in range(num_iterations):\n",
        "        Q, R = qr_decomposition(A)\n",
        "        A = np.dot(R, Q)\n",
        "        Q_total = np.dot(Q_total, Q)\n",
        "        off_diag = np.sum(np.abs(A - np.diag(np.diag(A))))\n",
        "        if off_diag < tol:\n",
        "            break\n",
        "    eigenvalues = np.diag(A)\n",
        "    return eigenvalues, Q_total\n",
        "\n",
        "def qr_decomposition(A):\n",
        "    n = A.shape[0]\n",
        "    Q = np.eye(n)\n",
        "    R = A.copy()\n",
        "    for i in range(n - 1):\n",
        "        x = R[i:, i]\n",
        "        e = np.zeros_like(x)\n",
        "        e[0] = np.sign(x[0]) * np.sqrt(np.dot(x, x))\n",
        "        v = (x - e) / np.sqrt(np.dot(x - e, x - e))\n",
        "        Q_i = np.eye(n)\n",
        "        Q_i[i:, i:] -= 2.0 * np.outer(v, v)\n",
        "        R = np.dot(Q_i, R)\n",
        "        Q = np.dot(Q, Q_i.T)\n",
        "    return Q, R\n",
        "\n",
        "def compute_eigenvectors(A, eigenvalues, num_iterations=1000, tol=1e-8):\n",
        "    n = A.shape[0]\n",
        "    eigenvectors = []\n",
        "    for i in range(n):\n",
        "        eigenvector = np.random.rand(n)\n",
        "        eigenvector /= np.sqrt(np.dot(eigenvector, eigenvector))\n",
        "        for _ in range(num_iterations):\n",
        "            Av = np.dot(A, eigenvector)\n",
        "            eigenvector_new = Av / np.sqrt(np.dot(Av, Av))\n",
        "            if np.sum(np.abs(eigenvector - eigenvector_new)) < tol:\n",
        "                break\n",
        "            eigenvector = eigenvector_new\n",
        "        eigenvectors.append(eigenvector)\n",
        "    return np.array(eigenvectors).T"
      ]
    },
    {
      "cell_type": "markdown",
      "metadata": {
        "id": "_uy-zBLoHzC4"
      },
      "source": [
        "Let's verify our results. no need to change the following cell."
      ]
    },
    {
      "cell_type": "code",
      "execution_count": 37,
      "metadata": {
        "colab": {
          "base_uri": "https://localhost:8080/"
        },
        "id": "q4Gxnb1sHwH7",
        "outputId": "18d1f29a-86c2-4bff-e765-e7b2606b1b9e"
      },
      "outputs": [
        {
          "name": "stdout",
          "output_type": "stream",
          "text": [
            "Matrix A:\n",
            "[[0.91078467 0.1829801  0.75539363 0.16673958]\n",
            " [0.83734461 0.27790419 0.98419526 0.059178  ]\n",
            " [0.28583752 0.61305744 0.40724495 0.32877145]\n",
            " [0.49766371 0.2241053  0.82963964 0.66668194]]\n",
            "\n",
            "Eigenvalues (QR Algorithm):\n",
            "[ 1.93625962  0.47056792 -0.40313306  0.25892127]\n",
            "\n",
            "Eigenvectors (QR Algorithm):\n",
            "[[ 0.4927101  -0.1425807   0.26873766 -0.52808068]\n",
            " [ 0.5179916  -0.4164584   0.62743905  0.43036924]\n",
            " [ 0.42000147 -0.01420127 -0.67905502  0.47450447]\n",
            " [ 0.55903508  0.89779255  0.27015658 -0.55745728]]\n",
            "\n",
            "Verification (A @ eigenvectors - eigenvectors @ np.diag(eigenvalues)):\n",
            "True\n",
            "\n",
            "Eigenvalues (NumPy):\n",
            "[ 1.93625962 -0.40313306  0.25892127  0.47056792]\n",
            "\n",
            "Eigenvectors (NumPy):\n",
            "[[-0.4927101   0.26873766 -0.52808068 -0.1425807 ]\n",
            " [-0.5179916   0.62743905  0.43036924 -0.4164584 ]\n",
            " [-0.42000147 -0.67905502  0.47450447 -0.01420127]\n",
            " [-0.55903508  0.27015658 -0.55745728  0.89779255]]\n",
            "\n",
            "Verification with NumPy (Eigenvalues):\n",
            "True\n"
          ]
        }
      ],
      "source": [
        "def test_qr_algorithm():\n",
        "    A = np.random.random((4,4))\n",
        "    eigenvalues, Q_total = qr_algorithm(A)\n",
        "\n",
        "    eigenvectors = compute_eigenvectors(A, eigenvalues)\n",
        "    print(\"Matrix A:\")\n",
        "    print(A)\n",
        "    print(\"\\nEigenvalues (QR Algorithm):\")\n",
        "    print(eigenvalues)\n",
        "    print(\"\\nEigenvectors (QR Algorithm):\")\n",
        "    print(eigenvectors)\n",
        "\n",
        "    # Verify the results\n",
        "    print(\"\\nVerification (A @ eigenvectors - eigenvectors @ np.diag(eigenvalues)):\")\n",
        "    print(np.allclose(A @ eigenvectors, eigenvectors @ np.diag(eigenvalues)))\n",
        "\n",
        "    # Compare with NumPy's eig function\n",
        "    np_eigenvalues, np_eigenvectors = np.linalg.eig(A)\n",
        "    np_eigenvalues = np_eigenvalues.real\n",
        "\n",
        "    print(\"\\nEigenvalues (NumPy):\")\n",
        "    print(np_eigenvalues)\n",
        "\n",
        "    print(\"\\nEigenvectors (NumPy):\")\n",
        "    print(np_eigenvectors)\n",
        "\n",
        "    print(\"\\nVerification with NumPy (Eigenvalues):\")\n",
        "    print(np.allclose(np.sort(eigenvalues), np.sort(np_eigenvalues)))\n",
        "\n",
        "test_qr_algorithm()"
      ]
    },
    {
      "cell_type": "markdown",
      "metadata": {
        "id": "e0DYHfIhH4Jo"
      },
      "source": [
        "<h3 style='color: green;'> Conclusion: </h3>\n",
        "\n",
        "\n",
        "QR decomposition offers a powerful method for computing eigenvalues numerically. Its iterative nature makes it suitable for matrices of varying sizes and complexities, providing a robust approach to solving eigenvalue problems in practice.\n"
      ]
    }
  ],
  "metadata": {
    "colab": {
      "provenance": []
    },
    "kernelspec": {
      "display_name": "Python 3 (ipykernel)",
      "language": "python",
      "name": "python3"
    },
    "language_info": {
      "codemirror_mode": {
        "name": "ipython",
        "version": 3
      },
      "file_extension": ".py",
      "mimetype": "text/x-python",
      "name": "python",
      "nbconvert_exporter": "python",
      "pygments_lexer": "ipython3",
      "version": "3.9.13"
    }
  },
  "nbformat": 4,
  "nbformat_minor": 0
}
